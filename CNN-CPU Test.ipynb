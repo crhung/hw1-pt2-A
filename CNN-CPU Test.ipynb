{
 "cells": [
  {
   "cell_type": "code",
   "execution_count": 1,
   "metadata": {},
   "outputs": [
    {
     "name": "stderr",
     "output_type": "stream",
     "text": [
      "Using TensorFlow backend.\n"
     ]
    }
   ],
   "source": [
    "from __future__ import print_function\n",
    "import os\n",
    "os.environ['CUDA_VISIBLE_DEVICES'] = '-1'\n",
    "import keras\n",
    "from keras.datasets import cifar10\n",
    "from keras.preprocessing.image import ImageDataGenerator\n",
    "from keras.models import Sequential\n",
    "from keras.layers import Dense, Dropout, Activation, Flatten\n",
    "from keras.layers import Conv2D, MaxPooling2D\n",
    "import pickle\n",
    "import numpy as np"
   ]
  },
  {
   "cell_type": "code",
   "execution_count": 2,
   "metadata": {
    "collapsed": true
   },
   "outputs": [],
   "source": [
    "batch_size = 32\n",
    "num_classes = 10\n",
    "epochs = 20\n",
    "data_augmentation = True\n",
    "num_predictions = 20\n",
    "save_dir = os.path.join(os.getcwd(), 'saved_models')\n",
    "model_name = 'keras_cifar10_trained_model.h5'"
   ]
  },
  {
   "cell_type": "code",
   "execution_count": 3,
   "metadata": {},
   "outputs": [
    {
     "name": "stdout",
     "output_type": "stream",
     "text": [
      "x_train shape: (50000, 32, 32, 3)\n",
      "50000 train samples\n",
      "10000 test samples\n"
     ]
    }
   ],
   "source": [
    "# The data, shuffled and split between train and test sets:\n",
    "(x_train, y_train), (x_test, y_test) = cifar10.load_data()\n",
    "print('x_train shape:', x_train.shape)\n",
    "print(x_train.shape[0], 'train samples')\n",
    "print(x_test.shape[0], 'test samples')"
   ]
  },
  {
   "cell_type": "code",
   "execution_count": 4,
   "metadata": {
    "collapsed": true
   },
   "outputs": [],
   "source": [
    "# Convert class vectors to binary class matrices.\n",
    "y_train = keras.utils.to_categorical(y_train, num_classes)\n",
    "y_test = keras.utils.to_categorical(y_test, num_classes)"
   ]
  },
  {
   "cell_type": "code",
   "execution_count": 5,
   "metadata": {
    "collapsed": true
   },
   "outputs": [],
   "source": [
    "model = Sequential()\n",
    "\n",
    "model.add(Conv2D(32, (3, 3), padding='same',\n",
    "                 input_shape=x_train.shape[1:]))\n",
    "model.add(Activation('relu'))\n",
    "model.add(Conv2D(32, (3, 3)))\n",
    "model.add(Activation('relu'))\n",
    "model.add(MaxPooling2D(pool_size=(2, 2)))\n",
    "model.add(Dropout(0.25))\n",
    "model.add(Conv2D(64, (3, 3), padding='same'))\n",
    "model.add(Activation('relu'))\n",
    "model.add(Conv2D(64, (3, 3)))\n",
    "model.add(Activation('relu'))\n",
    "model.add(MaxPooling2D(pool_size=(2, 2)))\n",
    "model.add(Dropout(0.25))\n",
    "model.add(Flatten())\n",
    "model.add(Dense(512))\n",
    "model.add(Activation('relu'))\n",
    "model.add(Dropout(0.5))\n",
    "model.add(Dense(num_classes))\n",
    "model.add(Activation('softmax'))"
   ]
  },
  {
   "cell_type": "code",
   "execution_count": 6,
   "metadata": {
    "collapsed": true
   },
   "outputs": [],
   "source": [
    "# initiate RMSprop optimizer\n",
    "opt = keras.optimizers.rmsprop(lr=0.0001, decay=1e-6)\n",
    "\n",
    "# Let's train the model using RMSprop\n",
    "model.compile(loss='categorical_crossentropy',\n",
    "              optimizer=opt,\n",
    "              metrics=['accuracy'])\n",
    "\n",
    "x_train = x_train.astype('float32')\n",
    "x_test = x_test.astype('float32')\n",
    "x_train /= 255\n",
    "x_test /= 255"
   ]
  },
  {
   "cell_type": "code",
   "execution_count": 7,
   "metadata": {},
   "outputs": [
    {
     "name": "stdout",
     "output_type": "stream",
     "text": [
      "Using real-time data augmentation.\n",
      "Epoch 1/20\n",
      "1562/1562 [==============================] - 275s - loss: 1.8719 - acc: 0.3115 - val_loss: 1.5986 - val_acc: 0.4206\n",
      "Epoch 2/20\n",
      "1562/1562 [==============================] - 274s - loss: 1.5888 - acc: 0.4210 - val_loss: 1.4219 - val_acc: 0.4848\n",
      "Epoch 3/20\n",
      "1562/1562 [==============================] - 275s - loss: 1.4557 - acc: 0.4712 - val_loss: 1.3019 - val_acc: 0.5335\n",
      "Epoch 4/20\n",
      "1562/1562 [==============================] - 272s - loss: 1.3635 - acc: 0.5083 - val_loss: 1.1787 - val_acc: 0.5823\n",
      "Epoch 5/20\n",
      "1562/1562 [==============================] - 275s - loss: 1.2905 - acc: 0.5399 - val_loss: 1.1207 - val_acc: 0.6000\n",
      "Epoch 6/20\n",
      "1562/1562 [==============================] - 289s - loss: 1.2232 - acc: 0.5640 - val_loss: 1.0740 - val_acc: 0.6209\n",
      "Epoch 7/20\n",
      "1562/1562 [==============================] - 278s - loss: 1.1738 - acc: 0.5848 - val_loss: 1.0039 - val_acc: 0.6529\n",
      "Epoch 8/20\n",
      "1562/1562 [==============================] - 299s - loss: 1.1286 - acc: 0.6016 - val_loss: 0.9872 - val_acc: 0.6534\n",
      "Epoch 9/20\n",
      "1562/1562 [==============================] - 291s - loss: 1.0911 - acc: 0.6137 - val_loss: 0.9872 - val_acc: 0.6493\n",
      "Epoch 10/20\n",
      "1562/1562 [==============================] - 295s - loss: 1.0576 - acc: 0.6262 - val_loss: 0.9155 - val_acc: 0.6758\n",
      "Epoch 11/20\n",
      "1562/1562 [==============================] - 306s - loss: 1.0397 - acc: 0.6342 - val_loss: 0.8821 - val_acc: 0.6963\n",
      "Epoch 12/20\n",
      "1562/1562 [==============================] - 283s - loss: 1.0101 - acc: 0.6459 - val_loss: 0.8672 - val_acc: 0.6973\n",
      "Epoch 13/20\n",
      "1562/1562 [==============================] - 304s - loss: 0.9881 - acc: 0.6522 - val_loss: 0.8443 - val_acc: 0.7014\n",
      "Epoch 14/20\n",
      "1562/1562 [==============================] - 302s - loss: 0.9666 - acc: 0.6622 - val_loss: 0.8301 - val_acc: 0.7103\n",
      "Epoch 15/20\n",
      "1562/1562 [==============================] - 301s - loss: 0.9462 - acc: 0.6662 - val_loss: 0.7967 - val_acc: 0.7228\n",
      "Epoch 16/20\n",
      "1562/1562 [==============================] - 290s - loss: 0.9348 - acc: 0.6714 - val_loss: 0.7947 - val_acc: 0.7245\n",
      "Epoch 17/20\n",
      "1562/1562 [==============================] - 290s - loss: 0.9179 - acc: 0.6787 - val_loss: 0.7799 - val_acc: 0.7317\n",
      "Epoch 18/20\n",
      "1562/1562 [==============================] - 293s - loss: 0.9074 - acc: 0.6839 - val_loss: 0.7857 - val_acc: 0.7328\n",
      "Epoch 19/20\n",
      "1562/1562 [==============================] - 319s - loss: 0.8909 - acc: 0.6889 - val_loss: 0.7772 - val_acc: 0.7308\n",
      "Epoch 20/20\n",
      "1562/1562 [==============================] - 288s - loss: 0.8836 - acc: 0.6912 - val_loss: 0.7585 - val_acc: 0.7376\n"
     ]
    }
   ],
   "source": [
    "if not data_augmentation:\n",
    "    print('Not using data augmentation.')\n",
    "    model.fit(x_train, y_train,\n",
    "              batch_size=batch_size,\n",
    "              epochs=epochs,\n",
    "              validation_data=(x_test, y_test),\n",
    "              shuffle=True)\n",
    "else:\n",
    "    print('Using real-time data augmentation.')\n",
    "    # This will do preprocessing and realtime data augmentation:\n",
    "    datagen = ImageDataGenerator(\n",
    "        featurewise_center=False,  # set input mean to 0 over the dataset\n",
    "        samplewise_center=False,  # set each sample mean to 0\n",
    "        featurewise_std_normalization=False,  # divide inputs by std of the dataset\n",
    "        samplewise_std_normalization=False,  # divide each input by its std\n",
    "        zca_whitening=False,  # apply ZCA whitening\n",
    "        rotation_range=0,  # randomly rotate images in the range (degrees, 0 to 180)\n",
    "        width_shift_range=0.1,  # randomly shift images horizontally (fraction of total width)\n",
    "        height_shift_range=0.1,  # randomly shift images vertically (fraction of total height)\n",
    "        horizontal_flip=True,  # randomly flip images\n",
    "        vertical_flip=False)  # randomly flip images\n",
    "\n",
    "    # Compute quantities required for feature-wise normalization\n",
    "    # (std, mean, and principal components if ZCA whitening is applied).\n",
    "    datagen.fit(x_train)\n",
    "\n",
    "    # Fit the model on the batches generated by datagen.flow().\n",
    "    model.fit_generator(datagen.flow(x_train, y_train,\n",
    "                                     batch_size=batch_size),\n",
    "                        steps_per_epoch=x_train.shape[0] // batch_size,\n",
    "                        epochs=epochs,\n",
    "                        validation_data=(x_test, y_test),\n",
    "                        workers=4)\n",
    "\n"
   ]
  },
  {
   "cell_type": "code",
   "execution_count": 8,
   "metadata": {},
   "outputs": [
    {
     "name": "stdout",
     "output_type": "stream",
     "text": [
      "Saved trained model at C:\\Users\\Derek\\Anaconda3\\Scripts\\saved_models\\keras_cifar10_trained_model.h5 \n"
     ]
    }
   ],
   "source": [
    "# Save model and weights\n",
    "if not os.path.isdir(save_dir):\n",
    "    os.makedirs(save_dir)\n",
    "model_path = os.path.join(save_dir, model_name)\n",
    "model.save(model_path)\n",
    "print('Saved trained model at %s ' % model_path)\n",
    "\n",
    "# Load label names to use in prediction results\n",
    "label_list_path = 'datasets/cifar-10-batches-py/batches.meta'"
   ]
  },
  {
   "cell_type": "code",
   "execution_count": 9,
   "metadata": {
    "collapsed": true
   },
   "outputs": [],
   "source": [
    "keras_dir = os.path.expanduser(os.path.join('~', '.keras'))\n",
    "datadir_base = os.path.expanduser(keras_dir)\n",
    "if not os.access(datadir_base, os.W_OK):\n",
    "    datadir_base = os.path.join('/tmp', '.keras')\n",
    "label_list_path = os.path.join(datadir_base, label_list_path)\n",
    "\n",
    "with open(label_list_path, mode='rb') as f:\n",
    "    labels = pickle.load(f)"
   ]
  },
  {
   "cell_type": "code",
   "execution_count": 10,
   "metadata": {},
   "outputs": [
    {
     "name": "stdout",
     "output_type": "stream",
     "text": [
      "Model Accuracy = 0.72\n"
     ]
    }
   ],
   "source": [
    "# Evaluate model with test data set and share sample prediction results\n",
    "evaluation = model.evaluate_generator(datagen.flow(x_test, y_test,\n",
    "                                                   batch_size=batch_size,\n",
    "                                                   shuffle=False),\n",
    "                                      steps=x_test.shape[0] // batch_size,\n",
    "                                      workers=4)\n",
    "print('Model Accuracy = %.2f' % (evaluation[1]))\n",
    "\n",
    "predict_gen = model.predict_generator(datagen.flow(x_test, y_test,\n",
    "                                                   batch_size=batch_size,\n",
    "                                                   shuffle=False),\n",
    "                                      steps=x_test.shape[0] // batch_size,\n",
    "                                      workers=4)"
   ]
  },
  {
   "cell_type": "code",
   "execution_count": 11,
   "metadata": {},
   "outputs": [
    {
     "name": "stdout",
     "output_type": "stream",
     "text": [
      "Actual Label = cat vs. Predicted Label = frog\n",
      "Actual Label = ship vs. Predicted Label = airplane\n",
      "Actual Label = ship vs. Predicted Label = airplane\n",
      "Actual Label = airplane vs. Predicted Label = horse\n",
      "Actual Label = frog vs. Predicted Label = deer\n",
      "Actual Label = frog vs. Predicted Label = dog\n",
      "Actual Label = automobile vs. Predicted Label = frog\n",
      "Actual Label = frog vs. Predicted Label = cat\n",
      "Actual Label = cat vs. Predicted Label = automobile\n",
      "Actual Label = automobile vs. Predicted Label = automobile\n",
      "Actual Label = airplane vs. Predicted Label = cat\n",
      "Actual Label = truck vs. Predicted Label = frog\n",
      "Actual Label = dog vs. Predicted Label = cat\n",
      "Actual Label = horse vs. Predicted Label = horse\n",
      "Actual Label = truck vs. Predicted Label = deer\n",
      "Actual Label = ship vs. Predicted Label = airplane\n",
      "Actual Label = dog vs. Predicted Label = bird\n",
      "Actual Label = horse vs. Predicted Label = bird\n",
      "Actual Label = ship vs. Predicted Label = truck\n",
      "Actual Label = frog vs. Predicted Label = horse\n",
      "Actual Label = horse vs. Predicted Label = airplane\n"
     ]
    }
   ],
   "source": [
    "for predict_index, predicted_y in enumerate(predict_gen):\n",
    "    actual_label = labels['label_names'][np.argmax(y_test[predict_index])]\n",
    "    predicted_label = labels['label_names'][np.argmax(predicted_y)]\n",
    "    print('Actual Label = %s vs. Predicted Label = %s' % (actual_label,\n",
    "                                                          predicted_label))\n",
    "    if predict_index == num_predictions:\n",
    "        break"
   ]
  },
  {
   "cell_type": "code",
   "execution_count": null,
   "metadata": {
    "collapsed": true
   },
   "outputs": [],
   "source": []
  },
  {
   "cell_type": "code",
   "execution_count": null,
   "metadata": {
    "collapsed": true
   },
   "outputs": [],
   "source": []
  }
 ],
 "metadata": {
  "kernelspec": {
   "display_name": "Python 3",
   "language": "python",
   "name": "python3"
  },
  "language_info": {
   "codemirror_mode": {
    "name": "ipython",
    "version": 3
   },
   "file_extension": ".py",
   "mimetype": "text/x-python",
   "name": "python",
   "nbconvert_exporter": "python",
   "pygments_lexer": "ipython3",
   "version": "3.6.2"
  }
 },
 "nbformat": 4,
 "nbformat_minor": 2
}
